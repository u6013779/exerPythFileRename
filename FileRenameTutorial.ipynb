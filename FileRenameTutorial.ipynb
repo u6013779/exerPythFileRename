{
 "cells": [
  {
   "cell_type": "code",
   "execution_count": 6,
   "id": "5155e8eb",
   "metadata": {},
   "outputs": [],
   "source": [
    "import os"
   ]
  },
  {
   "cell_type": "code",
   "execution_count": 7,
   "id": "4eccd29c",
   "metadata": {},
   "outputs": [],
   "source": [
    "os.chdir(\"/Users/reinhardts/Documents/Dummyfiles\")"
   ]
  },
  {
   "cell_type": "code",
   "execution_count": 8,
   "id": "d726094c",
   "metadata": {},
   "outputs": [
    {
     "name": "stdout",
     "output_type": "stream",
     "text": [
      "/Users/reinhardts/Documents/Dummyfiles\n"
     ]
    }
   ],
   "source": [
    "print(os.getcwd())"
   ]
  },
  {
   "cell_type": "code",
   "execution_count": 9,
   "id": "2d70bd80",
   "metadata": {},
   "outputs": [
    {
     "name": "stdout",
     "output_type": "stream",
     "text": [
      "Jupiter - Our solar system - #6\n",
      "The Sun - Our solar system - #1\n",
      "Pluto - Our solar system - #10\n",
      "Mars - Our solar system -#5\n",
      "Venus - Our solar system - #3\n",
      "Earth - Our Solar System-#4\n",
      "Uranus - Our solar system - #9\n",
      "Saturn - Our solar system - #7\n",
      "Mercury - Our solar system - #2\n",
      "Neptune - Our solar system - #8\n"
     ]
    }
   ],
   "source": [
    "for f in os.listdir():\n",
    "    print(f)"
   ]
  },
  {
   "cell_type": "code",
   "execution_count": 10,
   "id": "00cd53ff",
   "metadata": {},
   "outputs": [
    {
     "name": "stdout",
     "output_type": "stream",
     "text": [
      "('Jupiter - Our solar system - #6', '')\n",
      "('The Sun - Our solar system - #1', '')\n",
      "('Pluto - Our solar system - #10', '')\n",
      "('Mars - Our solar system -#5', '')\n",
      "('Venus - Our solar system - #3', '')\n",
      "('Earth - Our Solar System-#4', '')\n",
      "('Uranus - Our solar system - #9', '')\n",
      "('Saturn - Our solar system - #7', '')\n",
      "('Mercury - Our solar system - #2', '')\n",
      "('Neptune - Our solar system - #8', '')\n"
     ]
    }
   ],
   "source": [
    "for f in os.listdir():\n",
    "    print(os.path.splitext(f))"
   ]
  },
  {
   "cell_type": "code",
   "execution_count": 11,
   "id": "57534501",
   "metadata": {},
   "outputs": [
    {
     "name": "stdout",
     "output_type": "stream",
     "text": [
      "Jupiter - Our solar system - #6\n",
      "The Sun - Our solar system - #1\n",
      "Pluto - Our solar system - #10\n",
      "Mars - Our solar system -#5\n",
      "Venus - Our solar system - #3\n",
      "Earth - Our Solar System-#4\n",
      "Uranus - Our solar system - #9\n",
      "Saturn - Our solar system - #7\n",
      "Mercury - Our solar system - #2\n",
      "Neptune - Our solar system - #8\n"
     ]
    }
   ],
   "source": [
    "for f in os.listdir():\n",
    "    file_name, file_ext = os.path.splitext(f)\n",
    "    print(file_name)"
   ]
  },
  {
   "cell_type": "code",
   "execution_count": 12,
   "id": "0e686cad",
   "metadata": {},
   "outputs": [
    {
     "name": "stdout",
     "output_type": "stream",
     "text": [
      "['Jupiter ', ' Our solar system ', ' #6']\n",
      "['The Sun ', ' Our solar system ', ' #1']\n",
      "['Pluto ', ' Our solar system ', ' #10']\n",
      "['Mars ', ' Our solar system ', '#5']\n",
      "['Venus ', ' Our solar system ', ' #3']\n",
      "['Earth ', ' Our Solar System', '#4']\n",
      "['Uranus ', ' Our solar system ', ' #9']\n",
      "['Saturn ', ' Our solar system ', ' #7']\n",
      "['Mercury ', ' Our solar system ', ' #2']\n",
      "['Neptune ', ' Our solar system ', ' #8']\n"
     ]
    }
   ],
   "source": [
    "for f in os.listdir():\n",
    "    file_name, file_ext = os.path.splitext(f)\n",
    "    print(file_name.split(\"-\"))"
   ]
  },
  {
   "cell_type": "code",
   "execution_count": 14,
   "id": "1d6ceb46",
   "metadata": {},
   "outputs": [
    {
     "name": "stdout",
     "output_type": "stream",
     "text": [
      "Jupiter \n",
      "The Sun \n",
      "Pluto \n",
      "Mars \n",
      "Venus \n",
      "Earth \n",
      "Uranus \n",
      "Saturn \n",
      "Mercury \n",
      "Neptune \n"
     ]
    }
   ],
   "source": [
    "for f in os.listdir():\n",
    "    file_name, file_ext = os.path.splitext(f)\n",
    "    \n",
    "    f_title, f_course, f_num = file_name.split(\"-\")\n",
    "    print(f_title)\n",
    "  "
   ]
  },
  {
   "cell_type": "code",
   "execution_count": 15,
   "id": "d0e81a40",
   "metadata": {},
   "outputs": [
    {
     "name": "stdout",
     "output_type": "stream",
     "text": [
      " Our solar system \n",
      " Our solar system \n",
      " Our solar system \n",
      " Our solar system \n",
      " Our solar system \n",
      " Our Solar System\n",
      " Our solar system \n",
      " Our solar system \n",
      " Our solar system \n",
      " Our solar system \n"
     ]
    }
   ],
   "source": [
    "for f in os.listdir():\n",
    "    file_name, file_ext = os.path.splitext(f)\n",
    "    \n",
    "    f_title, f_course, f_num = file_name.split(\"-\")\n",
    "    print(f_course)"
   ]
  },
  {
   "cell_type": "code",
   "execution_count": 16,
   "id": "b1f3c946",
   "metadata": {},
   "outputs": [
    {
     "name": "stdout",
     "output_type": "stream",
     "text": [
      " #6\n",
      " #1\n",
      " #10\n",
      "#5\n",
      " #3\n",
      "#4\n",
      " #9\n",
      " #7\n",
      " #2\n",
      " #8\n"
     ]
    }
   ],
   "source": [
    "for f in os.listdir():\n",
    "    file_name, file_ext = os.path.splitext(f)\n",
    "    \n",
    "    f_title, f_course, f_num = file_name.split(\"-\")\n",
    "    print(f_num)"
   ]
  },
  {
   "cell_type": "code",
   "execution_count": 18,
   "id": "59458558",
   "metadata": {},
   "outputs": [
    {
     "name": "stdout",
     "output_type": "stream",
     "text": [
      " #6- Our solar system -Jupiter \n",
      " #1- Our solar system -The Sun \n",
      " #10- Our solar system -Pluto \n",
      "#5- Our solar system -Mars \n",
      " #3- Our solar system -Venus \n",
      "#4- Our Solar System-Earth \n",
      " #9- Our solar system -Uranus \n",
      " #7- Our solar system -Saturn \n",
      " #2- Our solar system -Mercury \n",
      " #8- Our solar system -Neptune \n"
     ]
    }
   ],
   "source": [
    "for f in os.listdir():\n",
    "    f_name, f_ext = os.path.splitext(f)\n",
    "    \n",
    "    f_title, f_course, f_num = f_name.split(\"-\")\n",
    "    \n",
    "    print(\"{}-{}-{}{}\".format(f_num, f_course, f_title, f_ext))"
   ]
  },
  {
   "cell_type": "code",
   "execution_count": 20,
   "id": "320e7113",
   "metadata": {},
   "outputs": [
    {
     "name": "stdout",
     "output_type": "stream",
     "text": [
      "#6-Our solar system-Jupiter\n",
      "#1-Our solar system-The Sun\n",
      "#10-Our solar system-Pluto\n",
      "#5-Our solar system-Mars\n",
      "#3-Our solar system-Venus\n",
      "#4-Our Solar System-Earth\n",
      "#9-Our solar system-Uranus\n",
      "#7-Our solar system-Saturn\n",
      "#2-Our solar system-Mercury\n",
      "#8-Our solar system-Neptune\n"
     ]
    }
   ],
   "source": [
    "for f in os.listdir():\n",
    "    f_name, f_ext = os.path.splitext(f)\n",
    "    \n",
    "    f_title, f_course, f_num = f_name.split(\"-\")\n",
    "    \n",
    "    f_title = f_title.strip()\n",
    "    f_course = f_course.strip()\n",
    "    f_num = f_num.strip()\n",
    "    \n",
    "    print(\"{}-{}-{}{}\".format(f_num, f_course, f_title, f_ext))\n",
    "    "
   ]
  },
  {
   "cell_type": "code",
   "execution_count": 21,
   "id": "78f81f1f",
   "metadata": {},
   "outputs": [
    {
     "name": "stdout",
     "output_type": "stream",
     "text": [
      "6-Our solar system-Jupiter\n",
      "1-Our solar system-The Sun\n",
      "10-Our solar system-Pluto\n",
      "5-Our solar system-Mars\n",
      "3-Our solar system-Venus\n",
      "4-Our Solar System-Earth\n",
      "9-Our solar system-Uranus\n",
      "7-Our solar system-Saturn\n",
      "2-Our solar system-Mercury\n",
      "8-Our solar system-Neptune\n"
     ]
    }
   ],
   "source": [
    "for f in os.listdir():\n",
    "    f_name, f_ext = os.path.splitext(f)\n",
    "    \n",
    "    f_title, f_course, f_num = f_name.split(\"-\")\n",
    "    \n",
    "    f_title = f_title.strip()\n",
    "    f_course = f_course.strip()\n",
    "    f_num = f_num.strip()[1:]\n",
    "    \n",
    "    print(\"{}-{}-{}{}\".format(f_num, f_course, f_title, f_ext))"
   ]
  },
  {
   "cell_type": "code",
   "execution_count": 22,
   "id": "0e1af399",
   "metadata": {},
   "outputs": [
    {
     "name": "stdout",
     "output_type": "stream",
     "text": [
      "06-Our solar system-Jupiter\n",
      "01-Our solar system-The Sun\n",
      "10-Our solar system-Pluto\n",
      "05-Our solar system-Mars\n",
      "03-Our solar system-Venus\n",
      "04-Our Solar System-Earth\n",
      "09-Our solar system-Uranus\n",
      "07-Our solar system-Saturn\n",
      "02-Our solar system-Mercury\n",
      "08-Our solar system-Neptune\n"
     ]
    }
   ],
   "source": [
    "for f in os.listdir():\n",
    "    f_name, f_ext = os.path.splitext(f)\n",
    "    \n",
    "    f_title, f_course, f_num = f_name.split(\"-\")\n",
    "    \n",
    "    f_title = f_title.strip()\n",
    "    f_course = f_course.strip()\n",
    "    f_num = f_num.strip()[1:].zfill(2)\n",
    "    \n",
    "    print(\"{}-{}-{}{}\".format(f_num, f_course, f_title, f_ext))"
   ]
  },
  {
   "cell_type": "code",
   "execution_count": 25,
   "id": "693826db",
   "metadata": {},
   "outputs": [
    {
     "name": "stdout",
     "output_type": "stream",
     "text": [
      "06-Jupiter\n",
      "01-The Sun\n",
      "10-Pluto\n",
      "05-Mars\n",
      "03-Venus\n",
      "04-Earth\n",
      "09-Uranus\n",
      "07-Saturn\n",
      "02-Mercury\n",
      "08-Neptune\n"
     ]
    }
   ],
   "source": [
    "for f in os.listdir():\n",
    "    f_name, f_ext = os.path.splitext(f)\n",
    "    \n",
    "    f_title, f_course, f_num = f_name.split(\"-\")\n",
    "    \n",
    "    f_title = f_title.strip()\n",
    "    f_course = f_course.strip()\n",
    "    f_num = f_num.strip()[1:].zfill(2)\n",
    "    \n",
    "    print(\"{}-{}{}\".format(f_num, f_title, f_ext))"
   ]
  },
  {
   "cell_type": "code",
   "execution_count": 34,
   "id": "77e54ffc",
   "metadata": {},
   "outputs": [],
   "source": [
    "for f in os.listdir():\n",
    "    f_name, f_ext = os.path.splitext(f)\n",
    "    \n",
    "    f_title, f_course, f_num = f_name.split(\"-\")\n",
    "    \n",
    "    f_title = f_title.strip()\n",
    "    f_course = f_course.strip()\n",
    "    f_num = f_num.strip()[1:].zfill(2)\n",
    "    new_name = \"{}-{}{}\".format(f_num, f_title, f_ext)\n",
    "    os.rename(f, new_name)\n",
    "    \n",
    " \n"
   ]
  },
  {
   "cell_type": "code",
   "execution_count": null,
   "id": "57057317",
   "metadata": {},
   "outputs": [],
   "source": []
  }
 ],
 "metadata": {
  "kernelspec": {
   "display_name": "Python 3",
   "language": "python",
   "name": "python3"
  },
  "language_info": {
   "codemirror_mode": {
    "name": "ipython",
    "version": 3
   },
   "file_extension": ".py",
   "mimetype": "text/x-python",
   "name": "python",
   "nbconvert_exporter": "python",
   "pygments_lexer": "ipython3",
   "version": "3.8.8"
  }
 },
 "nbformat": 4,
 "nbformat_minor": 5
}
